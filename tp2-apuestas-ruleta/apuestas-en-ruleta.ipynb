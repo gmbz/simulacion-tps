{
 "cells": [
  {
   "cell_type": "markdown",
   "id": "a8bb0222-c796-4d9b-8c8f-7c9bea58fbec",
   "metadata": {
    "tags": []
   },
   "source": [
    "# APUESTAS EN LA RULETA"
   ]
  },
  {
   "cell_type": "code",
   "execution_count": 1,
   "id": "1704bcef-f925-4810-bcab-8806c9985f0e",
   "metadata": {},
   "outputs": [],
   "source": [
    "import numpy as np\n",
    "import pandas as pd\n",
    "import matplotlib.pyplot as plt"
   ]
  },
  {
   "cell_type": "markdown",
   "id": "729d2c76-9b64-4c30-8eec-4e53dda1ecfe",
   "metadata": {},
   "source": [
    "## Método Martingala"
   ]
  },
  {
   "cell_type": "markdown",
   "id": "564284d5-7ceb-42dd-9cd6-40f05a02458a",
   "metadata": {},
   "source": [
    "### REFERENCIAS\n",
    "- https://blog.bodog.com/es/sistema-martingala-ruletas/\n",
    "- https://blog.sportium.es/metodo-martingala-ruleta-infalible/\n",
    "- https://www.casino.org/es/ruleta/estrategia/#calculator-sistema-martingala"
   ]
  },
  {
   "cell_type": "code",
   "execution_count": 2,
   "id": "3ea2db87-01e1-42bc-b5a3-8ff52b5e5bb6",
   "metadata": {},
   "outputs": [],
   "source": [
    "def estrategia_martingala(estado, capital, apuesta):\n",
    "    if (estado == \"gano\"):\n",
    "        capital += apuesta\n",
    "        apuesta = tipo_capital[capital_elegido]['apuesta']\n",
    "    else:\n",
    "        capital -= apuesta\n",
    "        apuesta *=2\n",
    "    return capital, apuesta"
   ]
  },
  {
   "cell_type": "markdown",
   "id": "48c550b5-15be-4e09-b297-e475b8c626ce",
   "metadata": {},
   "source": [
    "## Método D'Alembert"
   ]
  },
  {
   "cell_type": "markdown",
   "id": "7284c989-0e97-4000-8300-5cf9d6e6a2be",
   "metadata": {},
   "source": [
    "### REFERENCIAS\n",
    "- https://www.casino.org/es/ruleta/estrategia/#calculator-sistema-martingala\n",
    "- https://www.bettingexpert.com/es/casino/ruleta/estrategia-ruleta/dalembert\n",
    "- https://blog.bodog.com/es/sistema-de-ruleta-dalembert/"
   ]
  },
  {
   "cell_type": "code",
   "execution_count": 3,
   "id": "3eb65d15-26f4-4f82-a9a7-0343264e7b9a",
   "metadata": {
    "tags": []
   },
   "outputs": [],
   "source": [
    "def estrategia_dalembert(estado, capital, apuesta):\n",
    "    if (estado == \"gano\"):\n",
    "        if(apuesta == 1):\n",
    "            pass\n",
    "        else:\n",
    "            capital += apuesta\n",
    "            apuesta -= 1\n",
    "    else:\n",
    "        capital -= apuesta\n",
    "        apuesta += 1\n",
    "        \n",
    "    return capital, apuesta"
   ]
  },
  {
   "cell_type": "markdown",
   "id": "d17d6813-635c-4f5b-91b8-fcedc27e609a",
   "metadata": {},
   "source": [
    "## Método Oscar Grind"
   ]
  },
  {
   "cell_type": "markdown",
   "id": "1875c1ed-53e6-48d7-aa6a-7ebf6c782d44",
   "metadata": {},
   "source": [
    "### REFERENCIAS\n",
    "- https://www.casinonewsdaily.es/estrategias-los-casinos/sistema-apuestas-oscars-grind/"
   ]
  },
  {
   "cell_type": "code",
   "execution_count": 16,
   "id": "26b5a9bf-22ca-44d1-af37-d8fe6a7c9979",
   "metadata": {},
   "outputs": [],
   "source": [
    "def estrategia_oscar(estado, capital, apuesta):\n",
    "    if (estado == \"gano\"):\n",
    "        capital += apuesta\n",
    "        apuesta += 1\n",
    "    else:\n",
    "        capital -= apuesta\n",
    "    return capital, apuesta"
   ]
  },
  {
   "cell_type": "markdown",
   "id": "01a7f5ab-5bfb-4063-9c7f-eb88569e57ce",
   "metadata": {
    "tags": []
   },
   "source": [
    "#### ================================================================"
   ]
  },
  {
   "cell_type": "code",
   "execution_count": 20,
   "id": "e8588937-4530-4aca-b290-ccbba444fe0b",
   "metadata": {},
   "outputs": [],
   "source": [
    "def verifica_color(numero_aleatorio):\n",
    "    if (numero_aleatorio == 0):\n",
    "        color_sale = \"verde\"\n",
    "    elif (numero_aleatorio in tipos_apuestas[\"color\"][\"rojo\"]):\n",
    "        color_sale = \"rojo\"\n",
    "    else: \n",
    "        color_sale = \"negro\"\n",
    "    return color_sale"
   ]
  },
  {
   "cell_type": "code",
   "execution_count": 21,
   "id": "2529568b-6108-47ae-85fd-6680960fd5c4",
   "metadata": {},
   "outputs": [],
   "source": [
    "def verifica_paridad(numero_aleatorio):\n",
    "    if (numero_aleatorio == 0):\n",
    "        return \"cero\"\n",
    "    elif (numero_aleatorio%2 == 0):\n",
    "        return \"par\"\n",
    "    return \"impar\""
   ]
  },
  {
   "cell_type": "code",
   "execution_count": 22,
   "id": "47a5367b-9097-4abd-903b-4c2372df6f95",
   "metadata": {},
   "outputs": [],
   "source": [
    "def verifica_mitad(numero_aleatorio):\n",
    "    if (numero_aleatorio == 0):\n",
    "        return \"cero\"\n",
    "    elif (numero_aleatorio <= 18):\n",
    "        return \"falta\"\n",
    "    return \"pasa\""
   ]
  },
  {
   "cell_type": "code",
   "execution_count": 232,
   "id": "403cf844-fb5f-47ef-921a-4516099215c7",
   "metadata": {},
   "outputs": [],
   "source": [
    "def estrategias(capital_elegido, maximo_tiradas, estrategia_elegida, tipo_apuesta_elegida, subtipo_apuesta):\n",
    "    capital = tipo_capital[capital_elegido]['capital']\n",
    "    apuesta = tipo_capital[capital_elegido]['apuesta']\n",
    "    \n",
    "    # si la estrategia es oscar grind, la apuesta inicial es 1\n",
    "    if (estrategia_elegida == \"oscar\" and capital_elegido == \"finito\"):\n",
    "        apuesta = 1\n",
    "    \n",
    "    contador_tiradas = 0\n",
    "    cantidad_ganadas = 0\n",
    "\n",
    "    capital_segun_tiradas = []\n",
    "    tiradas = []\n",
    "    estados_segun_tiradas = []\n",
    "    apuestas_segun_tiradas = []\n",
    "    numero_segun_tiradas = []\n",
    "    juegos_que_salieron = []\n",
    "    fr_segun_tiradas = []\n",
    "\n",
    "    while (apuesta < capital):\n",
    "        contador_tiradas +=1\n",
    "        numero_aleatorio = np.random.randint(0,37)\n",
    "        \n",
    "        tiradas.append(contador_tiradas)\n",
    "        capital_segun_tiradas.append(capital)\n",
    "        apuestas_segun_tiradas.append(apuesta)\n",
    "        numero_segun_tiradas.append(numero_aleatorio)\n",
    "        \n",
    "        \n",
    "        \n",
    "\n",
    "        estado = \"perdio\" \n",
    "          \n",
    "        if (tipo_apuesta_elegida == \"color\"):\n",
    "            color_sale = verifica_color(numero_aleatorio)\n",
    "            juegos_que_salieron.append(color_sale)\n",
    "            if (color_sale == subtipo_apuesta):\n",
    "                estado = \"gano\"\n",
    "        elif (tipo_apuesta_elegida == \"paridad\"):\n",
    "            paridad_sale = verifica_paridad(numero_aleatorio)\n",
    "            juegos_que_salieron.append(paridad_sale)\n",
    "            if (paridad_sale == subtipo_apuesta):\n",
    "                estado = \"gano\"\n",
    "        else:\n",
    "            mitad_sale = verifica_mitad(numero_aleatorio)\n",
    "            juegos_que_salieron.append(mitad_sale)\n",
    "            if (mitad_sale == subtipo_apuesta):\n",
    "                estado = \"gano\" \n",
    "        \n",
    "        if (estado == \"gano\"):\n",
    "            cantidad_ganadas += 1\n",
    "        frecuencia_relativa = 100*(cantidad_ganadas/contador_tiradas)\n",
    "        fr_segun_tiradas.append(frecuencia_relativa)\n",
    "        estados_segun_tiradas.append(estado)\n",
    "        \n",
    "        if (estrategia_elegida == \"oscar\"):\n",
    "            # si se elige la estrategia oscar grind, al ganar por lo menos una unidad segun el capital inicial, termina la serie\n",
    "            if (capital > tipo_capital[capital_elegido]['capital']):\n",
    "                break\n",
    "        \n",
    "        if (estrategia_elegida == \"dalembert\"):\n",
    "            capital, apuesta = estrategia_dalembert(estado, capital, apuesta)\n",
    "        elif (estrategia_elegida == \"martingala\"):\n",
    "            capital, apuesta = estrategia_martingala(estado, capital, apuesta)\n",
    "        elif (estrategia_elegida == \"oscar\"):\n",
    "            capital, apuesta = estrategia_oscar(estado, capital, apuesta)\n",
    "            \n",
    "        \n",
    "        if(contador_tiradas==maximo_tiradas):\n",
    "            break\n",
    "           \n",
    "            \n",
    "    listado_tiradas = list(zip(tiradas, capital_segun_tiradas, apuestas_segun_tiradas, numero_segun_tiradas, estados_segun_tiradas, juegos_que_salieron, fr_segun_tiradas))\n",
    "    tiradas_df = pd.DataFrame(data = listado_tiradas, columns = ['tirada', 'capital', 'apuesta', 'numero','estado', 'salio', 'frecuencia relativa'])\n",
    "    return tiradas_df"
   ]
  },
  {
   "cell_type": "code",
   "execution_count": 198,
   "id": "f81dd8fc-c033-4490-b376-954b9a3373fb",
   "metadata": {},
   "outputs": [],
   "source": [
    "def grafico_frecuencia_relativa(corridas, capital_elegido, estrategia_elegida, maximo_tiradas, contador, cantidad_corridas):\n",
    "    fig = plt.figure(figsize=(10,10))\n",
    "    ax = fig.add_subplot(1,1,1)\n",
    "\n",
    "    ax.set_title(f\"FRECUENCIA RELATIVA ESTRATEGIA {estrategia_elegida.upper()} CAPITAL {capital_elegido.upper()} PARA LA CORRIDA {contador}/{cantidad_corridas}\", color=\"C0\")\n",
    "    ax.set_xlabel('n (número de tiradas)')\n",
    "    ax.set_ylabel('fr (frecuencia relativa)')\n",
    "\n",
    "    ax.bar(corrida['tirada'], corrida['frecuencia relativa'], label='frsa (frecuencia relativa de obtener la apuesta favorable segun n)')\n",
    "    \n",
    "    ax.tick_params(axis=\"y\", colors=\"C0\")\n",
    "    ax.tick_params(axis=\"x\", colors=\"C0\")\n",
    "   \n",
    "    \n",
    "    ax.xaxis.label.set_color('C0')\n",
    "    ax.yaxis.label.set_color('C0')\n",
    "    plt.xticks(np.arange(1, maximo_tiradas+1, 1))\n",
    "    plt.legend()\n",
    "    plt.savefig(f\"img/{estrategia_elegida}/fr-estrategia-{estrategia_elegida}-capital-{capital_elegido}-corrida-{contador}-de-{cantidad_corridas}-corridas.png\")\n",
    "    plt.show()"
   ]
  },
  {
   "cell_type": "code",
   "execution_count": 199,
   "id": "1a2dfc40-2144-475d-a893-0837c0d8d05b",
   "metadata": {},
   "outputs": [],
   "source": [
    "def grafico_estrategias(corridas, capital_elegido, estrategia_elegida, maximo_tiradas):\n",
    "    fig = plt.figure(figsize=(10,10))\n",
    "    ax = fig.add_subplot(1,1,1)\n",
    "\n",
    "    ax.set_title(f\"ESTRATEGIA {estrategia_elegida.upper()} CAPITAL {capital_elegido.upper()} PARA {len(corridas)} CORRIDAS\", color=\"C0\")\n",
    "    ax.set_xlabel('n (número de tiradas)')\n",
    "    ax.set_ylabel('cc (cantidad de capital)')\n",
    "\n",
    "    for corrida in corridas:\n",
    "        ax.plot(corrida['capital'], label=\"fc (flujo de caja)\")\n",
    "\n",
    "    ax.axhline(tipo_capital[capital_elegido]['capital'], label=\"fci (flujo de caja inicial)\", color=\"black\")\n",
    "    \n",
    "    ax.tick_params(axis=\"y\", colors=\"C0\")\n",
    "    ax.tick_params(axis=\"x\", colors=\"C0\")\n",
    "\n",
    "    ax.xaxis.label.set_color('C0')\n",
    "    ax.yaxis.label.set_color('C0')\n",
    "\n",
    "    plt.legend()\n",
    "    plt.savefig(f\"img/{estrategia_elegida}/estrategia-{estrategia_elegida}-capital-{capital_elegido}-{len(corridas)}-corridas.png\")\n",
    "    plt.show()"
   ]
  },
  {
   "cell_type": "code",
   "execution_count": 200,
   "id": "0d911015-1143-42e7-9165-707be5cf0ecc",
   "metadata": {
    "tags": []
   },
   "outputs": [],
   "source": [
    "estrategias_opciones = [\"martingala\", \"dalembert\", \"oscar\"]\n",
    "tipos_apuestas = {\n",
    "    \"color\": {\n",
    "        \"rojo\": [1, 3, 5, 7, 9, 12, 14, 16, 18, 19, 21, 23, 25, 27, 30, 32, 34, 36],\n",
    "        \"negro\": [2, 4, 6, 8, 10, 11, 13, 15, 17, 20, 22, 24, 26, 28, 29, 31, 33, 35]\n",
    "    },\n",
    "    \"paridad\": {\n",
    "        \"par\": [2, 4, 6, 8, 10, 12, 14, 16, 18, 20, 22, 24, 26, 28, 30, 32, 34, 36],\n",
    "        'impar': [1, 3, 5, 7, 9, 11, 13, 15, 17, 19, 21, 23, 25, 27, 29, 31, 33, 35]\n",
    "    },\n",
    "    'mitades': {\n",
    "        '1': [1, 2, 3, 4, 5, 6, 7, 8, 9, 10, 11, 12, 13, 14, 15, 16, 17, 18],\n",
    "        '2': [19, 20, 21, 22, 23, 24, 25, 26, 27, 28, 29, 30, 31, 32, 33, 34, 35, 36]\n",
    "    }\n",
    "}\n",
    "tipo_capital = {\n",
    "    \"finito\": {\n",
    "        \"capital\": 100,\n",
    "        \"apuesta\": 5\n",
    "    },\n",
    "    \"infinito\": {\n",
    "        \"capital\": 100000,\n",
    "        \"apuesta\": 500\n",
    "    }\n",
    "}"
   ]
  },
  {
   "cell_type": "markdown",
   "id": "e42e170b-839e-456c-9182-b5a8ef46cfd8",
   "metadata": {},
   "source": [
    "En la siguiente celda estan los datos que se pueden modificar segun querramos"
   ]
  },
  {
   "cell_type": "code",
   "execution_count": 240,
   "id": "6c01dcc1-e81e-4a02-84de-03878c9203d2",
   "metadata": {},
   "outputs": [
    {
     "name": "stdout",
     "output_type": "stream",
     "text": [
      "DATOS INGRESADOS:\n",
      "TIPO DE CAPITAL: infinito\n",
      "CAPITAL: 100000\n",
      "APUESTA INCIAL: 500\n",
      "ESTRATEGIA: oscar\n",
      "TIPO DE APUESTA: color\n",
      "SUBTIPO DE APUESTA: negro\n",
      "CANTIDAD DE CORRIDAS: 1\n"
     ]
    }
   ],
   "source": [
    "# capital inicial, escribir \"finito\" o \"infinito\"\n",
    "capital_elegido = \"infinito\"\n",
    "\n",
    "# elegir el tipo de apuesta: \"paridad\", \"color\" o \"mitades\"\n",
    "tipo_apuesta_elegida = \"color\"\n",
    "\n",
    "if (tipo_apuesta_elegida == \"color\"):\n",
    "    # elegir el color al que se va a apostar, \"rojo\" o \"negro\"\n",
    "    subtipo_apuesta = \"negro\"\n",
    "elif (tipo_apuesta_elegida == \"paridad\"):\n",
    "    # elegir la paridad a la que se va a apostar, \"par\" o \"impar\"\n",
    "    subtipo_apuesta = \"par\"\n",
    "elif (tipo_apuesta_elegida == \"mitades\"):\n",
    "    # elegir la mitad a la que se va a apostar, \"falta\" (1-18) o \"pasa\" (19-36)\n",
    "    subtipo_apuesta = \"falta\"\n",
    "\n",
    "# elegir la estrategia elegida, 0 para \"martingala\", 1 para \"dalembert\", 2 para \"oscar grind\" entre los []\n",
    "estrategia_elegida = estrategias_opciones[2]\n",
    "# elegir la cantidad maxima de tiradas\n",
    "maximo_tiradas = 20\n",
    "# elegir la cantidad de corridas\n",
    "cantidad_corridas = 1\n",
    "\n",
    "print(\"DATOS INGRESADOS:\")\n",
    "print(f\"TIPO DE CAPITAL: {capital_elegido}\")\n",
    "print(f\"CAPITAL: {tipo_capital[capital_elegido]['capital']}\")\n",
    "print(f\"APUESTA INCIAL: {tipo_capital[capital_elegido]['apuesta']}\")\n",
    "print(f\"ESTRATEGIA: {estrategia_elegida}\")\n",
    "print(f\"TIPO DE APUESTA: {tipo_apuesta_elegida}\")\n",
    "print(f\"SUBTIPO DE APUESTA: {subtipo_apuesta}\")\n",
    "print(f\"CANTIDAD DE CORRIDAS: {cantidad_corridas}\")"
   ]
  },
  {
   "cell_type": "code",
   "execution_count": 256,
   "id": "16e86445-419c-4a6b-bbaf-a65ac5535173",
   "metadata": {},
   "outputs": [],
   "source": [
    "corridas = []\n",
    "\n",
    "for corrida in range(cantidad_corridas):\n",
    "    tiradas_df = estrategias(capital_elegido, maximo_tiradas, estrategia_elegida, tipo_apuesta_elegida, subtipo_apuesta)\n",
    "    corridas.append(tiradas_df)"
   ]
  },
  {
   "cell_type": "code",
   "execution_count": 257,
   "id": "5a1a853c-a8da-4d98-b1e8-95ae5fcc5efb",
   "metadata": {},
   "outputs": [
    {
     "data": {
      "image/png": "[encoded data removed]",
      "text/plain": [
       "<Figure size 720x720 with 1 Axes>"
      ]
     },
     "metadata": {
      "needs_background": "light"
     },
     "output_type": "display_data"
    }
   ],
   "source": [
    "grafico_estrategias(corridas, capital_elegido, estrategia_elegida, maximo_tiradas)"
   ]
  },
  {
   "cell_type": "code",
   "execution_count": 258,
   "id": "48744bc2-6fd5-421e-8e31-18c48b70d94d",
   "metadata": {},
   "outputs": [
    {
     "data": {
      "image/png": "[encoded data removed]",
      "text/plain": [
       "<Figure size 720x720 with 1 Axes>"
      ]
     },
     "metadata": {
      "needs_background": "light"
     },
     "output_type": "display_data"
    }
   ],
   "source": [
    "contador = 0\n",
    "for corrida in corridas:\n",
    "    contador += 1\n",
    "    cantidad_corridas = len(corridas)\n",
    "    grafico_frecuencia_relativa(corrida, capital_elegido, estrategia_elegida, maximo_tiradas, contador, cantidad_corridas)"
   ]
  },
  {
   "cell_type": "code",
   "execution_count": 259,
   "id": "33198f1d-def6-45a3-9adf-f4762e046874",
   "metadata": {},
   "outputs": [
    {
     "data": {
      "text/plain": [
       "[   tirada  capital  apuesta  numero  estado  salio  frecuencia relativa\n",
       " 0       1   100000      500      12  perdio   rojo             0.000000\n",
       " 1       2    99500      500      21  perdio   rojo             0.000000\n",
       " 2       3    99000      500      29    gano  negro            33.333333\n",
       " 3       4    99500      501      19  perdio   rojo            25.000000\n",
       " 4       5    98999      501       2    gano  negro            40.000000\n",
       " 5       6    99500      502      18  perdio   rojo            33.333333\n",
       " 6       7    98998      502       6    gano  negro            42.857143\n",
       " 7       8    99500      503       2    gano  negro            50.000000\n",
       " 8       9   100003      504      30  perdio   rojo            44.444444]"
      ]
     },
     "execution_count": 259,
     "metadata": {},
     "output_type": "execute_result"
    }
   ],
   "source": [
    "corridas"
   ]
  },
  {
   "cell_type": "code",
   "execution_count": null,
   "id": "e33d4ae7-8eda-483e-b621-01b0c28c7e6f",
   "metadata": {},
   "outputs": [],
   "source": []
  }
 ],
 "metadata": {
  "kernelspec": {
   "display_name": "Python 3 (ipykernel)",
   "language": "python",
   "name": "python3"
  },
  "language_info": {
   "codemirror_mode": {
    "name": "ipython",
    "version": 3
   },
   "file_extension": ".py",
   "mimetype": "text/x-python",
   "name": "python",
   "nbconvert_exporter": "python",
   "pygments_lexer": "ipython3",
   "version": "3.9.7"
  }
 },
 "nbformat": 4,
 "nbformat_minor": 5
}
